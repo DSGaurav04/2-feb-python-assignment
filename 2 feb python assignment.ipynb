{
 "cells": [
  {
   "cell_type": "markdown",
   "id": "cf780785-fc68-43e5-956c-0c580a904cb8",
   "metadata": {},
   "source": [
    "Q1. Explain with an example each when to use a for loop and a while loop.\n"
   ]
  },
  {
   "cell_type": "markdown",
   "id": "3dbddaad-d895-4abd-a1ea-e0577e2c57b2",
   "metadata": {},
   "source": [
    "1)For Loop:\n",
    "\n",
    "Use a for loop when you know the number of iterations in advance or when you want to iterate over a sequence (like a list, tuple, string, etc.).\n",
    "For loops are typically used when the number of iterations is fixed or known beforehand.\n",
    "Example: Calculate the sum of numbers in a list."
   ]
  },
  {
   "cell_type": "code",
   "execution_count": 2,
   "id": "61cb5e06-0e6d-43c1-be5b-0614b4dc15cb",
   "metadata": {},
   "outputs": [
    {
     "name": "stdout",
     "output_type": "stream",
     "text": [
      "Sum of numbers: 15\n"
     ]
    }
   ],
   "source": [
    "#example of for loop\n",
    "\n",
    "numbers = [1, 2, 3, 4, 5]\n",
    "total = 0\n",
    "for num in numbers:\n",
    "    total += num\n",
    "print(\"Sum of numbers:\", total)\n"
   ]
  },
  {
   "cell_type": "markdown",
   "id": "a818a27c-cc39-46b1-9fd1-15ecfa7a54a1",
   "metadata": {},
   "source": [
    "2)While Loop:\n",
    "\n",
    "Use a while loop when you want to execute a block of code repeatedly until a condition is met.\n",
    "While loops are typically used when the number of iterations is not fixed or known in advance.\n",
    "Example: Find the smallest power of 2 greater than a given number."
   ]
  },
  {
   "cell_type": "code",
   "execution_count": 4,
   "id": "bf73bff1-6f69-4108-a15c-dbf241e85cf4",
   "metadata": {},
   "outputs": [
    {
     "name": "stdin",
     "output_type": "stream",
     "text": [
      "Enter a number:  5\n"
     ]
    },
    {
     "name": "stdout",
     "output_type": "stream",
     "text": [
      "Smallest power of 2 greater than 5 is 8\n"
     ]
    }
   ],
   "source": [
    "#example of while loop\n",
    "\n",
    "num = int(input(\"Enter a number: \"))\n",
    "power_of_2 = 1\n",
    "while power_of_2 < num:\n",
    "    power_of_2 *= 2\n",
    "print(\"Smallest power of 2 greater than\", num, \"is\", power_of_2)\n"
   ]
  },
  {
   "cell_type": "code",
   "execution_count": null,
   "id": "f1081cea-1057-489a-943f-bcfeae559b13",
   "metadata": {},
   "outputs": [],
   "source": []
  },
  {
   "cell_type": "markdown",
   "id": "68cd0b2a-3994-4b7e-bfd5-5c9d1a587139",
   "metadata": {},
   "source": [
    "Q2. Write a python program to print the sum and product of the first 10 natural numbers using for\r\n",
    "and while loop."
   ]
  },
  {
   "cell_type": "code",
   "execution_count": 5,
   "id": "f92e3e21-ddc9-4322-8a79-1d3f4e019705",
   "metadata": {},
   "outputs": [
    {
     "name": "stdout",
     "output_type": "stream",
     "text": [
      "Sum of the first 10 natural numbers: 55\n",
      "Product of the first 10 natural numbers: 3628800\n"
     ]
    }
   ],
   "source": [
    "#Using a for loop:\n",
    "\n",
    "#sum\n",
    "sum_of_numbers = 0\n",
    "for i in range(1, 11):\n",
    "    sum_of_numbers += i\n",
    "\n",
    "\n",
    "#product\n",
    "product_of_numbers = 1\n",
    "for i in range(1, 11):\n",
    "    product_of_numbers *= i\n",
    "\n",
    "print(\"Sum of the first 10 natural numbers:\", sum_of_numbers)\n",
    "print(\"Product of the first 10 natural numbers:\", product_of_numbers)\n",
    "\n",
    "\n",
    "\n"
   ]
  },
  {
   "cell_type": "code",
   "execution_count": 6,
   "id": "8a833aeb-262c-40fb-88ce-d73aff6f3a5a",
   "metadata": {},
   "outputs": [
    {
     "name": "stdout",
     "output_type": "stream",
     "text": [
      "Sum of the first 10 natural numbers: 55\n",
      "Product of the first 10 natural numbers: 3628800\n"
     ]
    }
   ],
   "source": [
    "#using a while loop\n",
    "\n",
    "#sum\n",
    "sum_of_numbers = 0\n",
    "i = 1\n",
    "while i <= 10:\n",
    "    sum_of_numbers += i\n",
    "    i += 1\n",
    "\n",
    "#product\n",
    "product_of_numbers = 1\n",
    "i = 1\n",
    "while i <= 10:\n",
    "    product_of_numbers *= i\n",
    "    i += 1\n",
    "\n",
    "print(\"Sum of the first 10 natural numbers:\", sum_of_numbers)\n",
    "print(\"Product of the first 10 natural numbers:\", product_of_numbers)\n",
    "\n"
   ]
  },
  {
   "cell_type": "code",
   "execution_count": null,
   "id": "b3df1afb-03c4-4bc7-bd34-46f9c3b0731e",
   "metadata": {},
   "outputs": [],
   "source": []
  },
  {
   "cell_type": "markdown",
   "id": "cfefd327-4db8-456e-92af-ac91150ebaf6",
   "metadata": {},
   "source": [
    "Q3. Create a python program to compute the electricity bill for a household.\r\n",
    "The per-unit charges in rupees are as follows: For the first 100 units, the user will be charged Rs. 4.5 per\r\n",
    "unit, for the next 100 units, the user will be charged Rs. 6 per unit, and for the next 100 units, the user will\r\n",
    "be charged Rs. 10 per unit, After 300 units and above the user will be charged Rs. 20 per unit.\r\n",
    "You are required to take the units of electricity consumed in a month from the user as input.\r\n",
    "Your program must pass this test case: when the unit of electricity consumed by the user in a month is\r\n",
    "310, the total electricity bill should be 2250."
   ]
  },
  {
   "cell_type": "code",
   "execution_count": 7,
   "id": "0f8fc683-d4d2-4388-938a-3fcbe842353b",
   "metadata": {},
   "outputs": [
    {
     "name": "stdin",
     "output_type": "stream",
     "text": [
      "Enter the units of electricity consumed in a month:  520\n"
     ]
    },
    {
     "name": "stdout",
     "output_type": "stream",
     "text": [
      "Total electricity bill: 6450.0\n"
     ]
    }
   ],
   "source": [
    "def calculate_electricity_bill(units):\n",
    "    total_bill = 0\n",
    "    \n",
    "    if units <= 100:\n",
    "        total_bill = units * 4.5\n",
    "    elif units <= 200:\n",
    "        total_bill = 100 * 4.5 + (units - 100) * 6\n",
    "    elif units <= 300:\n",
    "        total_bill = 100 * 4.5 + 100 * 6 + (units - 200) * 10\n",
    "    else:\n",
    "        total_bill = 100 * 4.5 + 100 * 6 + 100 * 10 + (units - 300) * 20\n",
    "    \n",
    "    return total_bill\n",
    "\n",
    "# Accept the units of electricity consumed from the user\n",
    "units_consumed = int(input(\"Enter the units of electricity consumed in a month: \"))\n",
    "\n",
    "# Calculate the electricity bill\n",
    "electricity_bill = calculate_electricity_bill(units_consumed)\n",
    "\n",
    "# Display the total electricity bill\n",
    "print(\"Total electricity bill:\", electricity_bill)\n"
   ]
  },
  {
   "cell_type": "code",
   "execution_count": null,
   "id": "fc3413ba-ce08-4048-b47b-fb1ae279bdc5",
   "metadata": {},
   "outputs": [],
   "source": []
  },
  {
   "cell_type": "markdown",
   "id": "f7c025ce-ecd1-4911-9866-e875b4c0178c",
   "metadata": {},
   "source": [
    "Q4. Create a list of numbers from 1 to 100. Use for loop and while loop to calculate the cube of each\r\n",
    "number and if the cube of that number is divisible by 4 or 5 then append that number in a list and print\r\n",
    "that list."
   ]
  },
  {
   "cell_type": "code",
   "execution_count": 8,
   "id": "37e301dc-84cb-47f7-a592-3879278473da",
   "metadata": {},
   "outputs": [
    {
     "name": "stdout",
     "output_type": "stream",
     "text": [
      "Numbers whose cubes are divisible by 4 or 5: [2, 4, 5, 6, 8, 10, 12, 14, 15, 16, 18, 20, 22, 24, 25, 26, 28, 30, 32, 34, 35, 36, 38, 40, 42, 44, 45, 46, 48, 50, 52, 54, 55, 56, 58, 60, 62, 64, 65, 66, 68, 70, 72, 74, 75, 76, 78, 80, 82, 84, 85, 86, 88, 90, 92, 94, 95, 96, 98, 100]\n"
     ]
    }
   ],
   "source": [
    "# Using a for loop to create a list of numbers from 1 to 100\n",
    "numbers = list(range(1, 101))\n",
    "\n",
    "# Initialize an empty list to store numbers whose cubes are divisible by 4 or 5\n",
    "result_list = []\n",
    "\n",
    "# Using a for loop to calculate the cube of each number and check if it is divisible by 4 or 5\n",
    "for num in numbers:\n",
    "    cube = num ** 3\n",
    "    if cube % 4 == 0 or cube % 5 == 0:\n",
    "        result_list.append(num)\n",
    "\n",
    "# Print the list of numbers whose cubes are divisible by 4 or 5\n",
    "print(\"Numbers whose cubes are divisible by 4 or 5:\", result_list)\n"
   ]
  },
  {
   "cell_type": "code",
   "execution_count": 9,
   "id": "cca06675-e575-4e50-8351-e83ca0202c5f",
   "metadata": {},
   "outputs": [
    {
     "name": "stdout",
     "output_type": "stream",
     "text": [
      "Numbers whose cubes are divisible by 4 or 5: [2, 4, 5, 6, 8, 10, 12, 14, 15, 16, 18, 20, 22, 24, 25, 26, 28, 30, 32, 34, 35, 36, 38, 40, 42, 44, 45, 46, 48, 50, 52, 54, 55, 56, 58, 60, 62, 64, 65, 66, 68, 70, 72, 74, 75, 76, 78, 80, 82, 84, 85, 86, 88, 90, 92, 94, 95, 96, 98, 100]\n"
     ]
    }
   ],
   "source": [
    "# Initialize variables\n",
    "numbers = 1\n",
    "result_list = []\n",
    "\n",
    "# Using a while loop to calculate the cube of each number from 1 to 100 and check if it is divisible by 4 or 5\n",
    "while numbers <= 100:\n",
    "    cube = numbers ** 3\n",
    "    if cube % 4 == 0 or cube % 5 == 0:\n",
    "        result_list.append(numbers)\n",
    "    numbers += 1\n",
    "\n",
    "# Print the list of numbers whose cubes are divisible by 4 or 5\n",
    "print(\"Numbers whose cubes are divisible by 4 or 5:\", result_list)\n"
   ]
  },
  {
   "cell_type": "code",
   "execution_count": null,
   "id": "580f8d91-3045-452a-8984-4b7f23bc218d",
   "metadata": {},
   "outputs": [],
   "source": []
  },
  {
   "cell_type": "markdown",
   "id": "e0d26e91-58ff-4a1d-9a58-6428ae0c5f37",
   "metadata": {},
   "source": [
    "Q5. Write a program to filter count vowels in the below-given string.\r\n",
    "string = \"I want to become a data scientist\""
   ]
  },
  {
   "cell_type": "code",
   "execution_count": 10,
   "id": "505a4632-1746-46aa-97a4-fe7c7a352f42",
   "metadata": {},
   "outputs": [
    {
     "name": "stdout",
     "output_type": "stream",
     "text": [
      "Number of vowels in the string: 12\n"
     ]
    }
   ],
   "source": [
    "# Given string\n",
    "string = \"I want to become a data scientist\"\n",
    "\n",
    "# Define a function to count vowels\n",
    "def count_vowels(input_string):\n",
    "    # Define a set of vowels\n",
    "    vowels = {'a', 'e', 'i', 'o', 'u'}\n",
    "\n",
    "    # Convert the input string to lowercase\n",
    "    input_string = input_string.lower()\n",
    "\n",
    "    # Initialize a variable to count vowels\n",
    "    vowel_count = 0\n",
    "\n",
    "    # Iterate through each character in the string\n",
    "    for char in input_string:\n",
    "        # Check if the character is a vowel\n",
    "        if char in vowels:\n",
    "            vowel_count += 1\n",
    "\n",
    "    return vowel_count\n",
    "\n",
    "# Call the function and print the result\n",
    "print(\"Number of vowels in the string:\", count_vowels(string))\n"
   ]
  },
  {
   "cell_type": "code",
   "execution_count": null,
   "id": "31f6098c-e070-47f4-9e2a-cb081e94971d",
   "metadata": {},
   "outputs": [],
   "source": [
    "print(\"Thank you!"
   ]
  }
 ],
 "metadata": {
  "kernelspec": {
   "display_name": "Python 3 (ipykernel)",
   "language": "python",
   "name": "python3"
  },
  "language_info": {
   "codemirror_mode": {
    "name": "ipython",
    "version": 3
   },
   "file_extension": ".py",
   "mimetype": "text/x-python",
   "name": "python",
   "nbconvert_exporter": "python",
   "pygments_lexer": "ipython3",
   "version": "3.11.5"
  }
 },
 "nbformat": 4,
 "nbformat_minor": 5
}
